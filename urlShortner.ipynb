{
  "nbformat": 4,
  "nbformat_minor": 0,
  "metadata": {
    "colab": {
      "name": "urlShortner.ipynb",
      "provenance": [],
      "authorship_tag": "ABX9TyPVYB9pO2TVqYqYxkqzm4Go",
      "include_colab_link": true
    },
    "kernelspec": {
      "name": "python3",
      "display_name": "Python 3"
    },
    "language_info": {
      "name": "python"
    }
  },
  "cells": [
    {
      "cell_type": "markdown",
      "metadata": {
        "id": "view-in-github",
        "colab_type": "text"
      },
      "source": [
        "<a href=\"https://colab.research.google.com/github/ShreyaGupta12/urlShortner/blob/main/urlShortner.ipynb\" target=\"_parent\"><img src=\"https://colab.research.google.com/assets/colab-badge.svg\" alt=\"Open In Colab\"/></a>"
      ]
    },
    {
      "cell_type": "code",
      "metadata": {
        "colab": {
          "base_uri": "https://localhost:8080/"
        },
        "id": "H5pKyd0WPQXn",
        "outputId": "2619b6b1-9740-4f8f-fd68-6bf9fe50c6bd"
      },
      "source": [
        "pip install requests"
      ],
      "execution_count": null,
      "outputs": [
        {
          "output_type": "stream",
          "text": [
            "Requirement already satisfied: requests in /usr/local/lib/python3.7/dist-packages (2.23.0)\n",
            "Requirement already satisfied: certifi>=2017.4.17 in /usr/local/lib/python3.7/dist-packages (from requests) (2021.5.30)\n",
            "Requirement already satisfied: urllib3!=1.25.0,!=1.25.1,<1.26,>=1.21.1 in /usr/local/lib/python3.7/dist-packages (from requests) (1.24.3)\n",
            "Requirement already satisfied: chardet<4,>=3.0.2 in /usr/local/lib/python3.7/dist-packages (from requests) (3.0.4)\n",
            "Requirement already satisfied: idna<3,>=2.5 in /usr/local/lib/python3.7/dist-packages (from requests) (2.10)\n"
          ],
          "name": "stdout"
        }
      ]
    },
    {
      "cell_type": "code",
      "metadata": {
        "colab": {
          "base_uri": "https://localhost:8080/"
        },
        "id": "nRMQ1PdmBpNF",
        "outputId": "2fb2729e-9070-4729-928a-1a71cd7f3c4a"
      },
      "source": [
        "import requests\n",
        "api_key = \"[API Key]\"\n",
        "url = input()\n",
        "api_url = f\"https://cutt.ly/api/api.php?key={api_key}&short={url}\"\n",
        "data = requests.get(api_url).json()[\"url\"]\n",
        "if data[\"status\"] == 7:\n",
        "    shortened_url = data[\"shortLink\"]\n",
        "    print(\"Shortened URL:\", shortened_url)\n",
        "else:\n",
        "    print(\"[!] Error Shortening URL:\", data)"
      ],
      "execution_count": null,
      "outputs": [
        {
          "output_type": "stream",
          "text": [
            "https://webinar.prepbytes.com/how-to-master-recursion?utm_source=Workshop_SHRE053890&utm_medium=Campus_Ambassador&utm_campaign=Workshop\n",
            "Shortened URL: https://cutt.ly/ummCXQV\n"
          ],
          "name": "stdout"
        }
      ]
    }
  ]
}